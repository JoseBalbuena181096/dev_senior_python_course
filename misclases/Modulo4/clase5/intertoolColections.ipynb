{
 "cells": [
  {
   "cell_type": "markdown",
   "metadata": {},
   "source": [
    "## 1. Introducción\n",
    "\n",
    "\n",
    "### 2. Técnicas Avanzadas con intertools\n",
    "#### 2.1 Iterador Infinito"
   ]
  },
  {
   "cell_type": "code",
   "execution_count": 5,
   "metadata": {},
   "outputs": [
    {
     "name": "stdout",
     "output_type": "stream",
     "text": [
      "10\n",
      "22\n",
      "34\n",
      "46\n",
      "58\n",
      "70\n",
      "82\n",
      "94\n",
      "106\n",
      "118\n",
      "130\n",
      "142\n",
      "154\n",
      "166\n",
      "178\n",
      "190\n",
      "202\n",
      "214\n",
      "226\n",
      "238\n"
     ]
    }
   ],
   "source": [
    "import itertools\n",
    "\n",
    "contador = itertools.count(start=10, step=12)\n",
    "\n",
    "for _ in range(20):\n",
    "    print(next(contador))"
   ]
  },
  {
   "cell_type": "code",
   "execution_count": 7,
   "metadata": {},
   "outputs": [
    {
     "name": "stdout",
     "output_type": "stream",
     "text": [
      "Rojo\n",
      "Verde\n",
      "Azul\n",
      "Rojo\n",
      "Verde\n",
      "Azul\n"
     ]
    }
   ],
   "source": [
    "ciclo = itertools.cycle([\"Rojo\", \"Verde\", \"Azul\"])\n",
    "for _ in range(6):\n",
    "    print(next(ciclo))"
   ]
  },
  {
   "cell_type": "code",
   "execution_count": 9,
   "metadata": {},
   "outputs": [
    {
     "name": "stdout",
     "output_type": "stream",
     "text": [
      "[['Hola', 'adios'], ['Hola', 'adios'], ['Hola', 'adios']]\n"
     ]
    }
   ],
   "source": [
    "repetir = itertools.repeat(['Hola', 'adios'], 3)\n",
    "print(list(repetir))"
   ]
  },
  {
   "cell_type": "markdown",
   "metadata": {},
   "source": [
    "### 2.2 Combinaciones y permutación"
   ]
  },
  {
   "cell_type": "code",
   "execution_count": 10,
   "metadata": {},
   "outputs": [],
   "source": []
  },
  {
   "cell_type": "code",
   "execution_count": 11,
   "metadata": {},
   "outputs": [
    {
     "name": "stdout",
     "output_type": "stream",
     "text": [
      "[('A', 'B'), ('A', 'C'), ('B', 'A'), ('B', 'C'), ('C', 'A'), ('C', 'B')]\n"
     ]
    }
   ],
   "source": [
    "import itertools\n",
    "\n",
    "dato = [\"A\", \"B\", \"C\"]\n",
    "\n",
    "permutacion = list(itertools.permutations(dato, 2))\n",
    "print(permutacion)"
   ]
  },
  {
   "cell_type": "code",
   "execution_count": 13,
   "metadata": {},
   "outputs": [
    {
     "name": "stdout",
     "output_type": "stream",
     "text": [
      "[('A', 'B'), ('A', 'C'), ('B', 'C')]\n"
     ]
    }
   ],
   "source": [
    "combinacion = list(itertools.combinations(dato, 2))\n",
    "print(combinacion)"
   ]
  },
  {
   "cell_type": "code",
   "execution_count": 15,
   "metadata": {},
   "outputs": [
    {
     "name": "stdout",
     "output_type": "stream",
     "text": [
      "[('A', 'A', 'A'), ('A', 'A', 'B'), ('A', 'A', 'C'), ('A', 'B', 'B'), ('A', 'B', 'C'), ('A', 'C', 'C'), ('B', 'B', 'B'), ('B', 'B', 'C'), ('B', 'C', 'C'), ('C', 'C', 'C')]\n"
     ]
    }
   ],
   "source": [
    "conbinacionConRepeticion = list(itertools.combinations_with_replacement(dato, 3))\n",
    "print(conbinacionConRepeticion)"
   ]
  },
  {
   "cell_type": "markdown",
   "metadata": {},
   "source": [
    "### 2.3 Agrupación y segmentación de datos"
   ]
  },
  {
   "cell_type": "code",
   "execution_count": 16,
   "metadata": {},
   "outputs": [
    {
     "name": "stdout",
     "output_type": "stream",
     "text": [
      "clave 1 : list [(1, 'A'), (1, 'B')]\n",
      "clave 2 : list [(2, 'C'), (2, 'D')]\n",
      "clave 3 : list [(3, 'E')]\n"
     ]
    }
   ],
   "source": [
    "datos = [(1, \"A\"),(1, \"B\"), (2, \"C\"), (2,\"D\"), (3, \"E\")]\n",
    "for clave, grupo in itertools.groupby(datos, key= lambda x : x[0]):\n",
    "    print(f'clave {clave} : list {list(grupo)}')"
   ]
  },
  {
   "cell_type": "code",
   "execution_count": 18,
   "metadata": {},
   "outputs": [
    {
     "name": "stdout",
     "output_type": "stream",
     "text": [
      "[1, 2, 3, 4, 5]\n",
      "[1, 2, 3, 4, 5]\n"
     ]
    }
   ],
   "source": [
    "datos = iter([1,2,3,4,5])\n",
    "it1, it2 = itertools.tee(datos, 2)\n",
    "print(list(it1))\n",
    "print(list(it2))\n"
   ]
  },
  {
   "cell_type": "markdown",
   "metadata": {},
   "source": [
    "### 2.4 Productos Cartecianos y Concatenación"
   ]
  },
  {
   "cell_type": "code",
   "execution_count": 19,
   "metadata": {},
   "outputs": [
    {
     "name": "stdout",
     "output_type": "stream",
     "text": [
      "[('Rojo', 'S'), ('Rojo', 'M'), ('Verde', 'S'), ('Verde', 'M')]\n"
     ]
    }
   ],
   "source": [
    "colores = [\"Rojo\", \"Verde\"]\n",
    "tallas = [\"S\", \"M\"]\n",
    "\n",
    "print(list(itertools.product(colores, tallas)))"
   ]
  },
  {
   "cell_type": "code",
   "execution_count": 20,
   "metadata": {},
   "outputs": [
    {
     "name": "stdout",
     "output_type": "stream",
     "text": [
      "[1, 2, 3, 'A', 'B']\n"
     ]
    }
   ],
   "source": [
    "a = [1, 2, 3]\n",
    "b = [\"A\", \"B\"]\n",
    "print(list(itertools.chain(a,b)))"
   ]
  },
  {
   "cell_type": "markdown",
   "metadata": {},
   "source": [
    "### 3. Tecnicas Avanzadas con collections"
   ]
  },
  {
   "cell_type": "code",
   "execution_count": 22,
   "metadata": {},
   "outputs": [
    {
     "name": "stdout",
     "output_type": "stream",
     "text": [
      "defaultdict(<class 'list'>, {'A': [1], 'B': [2]})\n"
     ]
    }
   ],
   "source": [
    "import collections\n",
    "\n",
    "d = collections.defaultdict(list)\n",
    "d[\"A\"].append(1)\n",
    "d[\"B\"].append(2)\n",
    "print(d)\n"
   ]
  },
  {
   "cell_type": "code",
   "execution_count": 23,
   "metadata": {},
   "outputs": [
    {
     "name": "stdout",
     "output_type": "stream",
     "text": [
      "Counter({'manzana': 2, 'pera': 2, 'naranja': 1})\n"
     ]
    }
   ],
   "source": [
    "frutas =[\"manzana\", \"pera\", \"manzana\", \"pera\", \"naranja\"]\n",
    "conteo = collections.Counter(frutas)\n",
    "\n",
    "print(conteo)"
   ]
  },
  {
   "cell_type": "code",
   "execution_count": 25,
   "metadata": {},
   "outputs": [
    {
     "name": "stdout",
     "output_type": "stream",
     "text": [
      "OrderedDict({'a': 1, 'b': 2, 'c': 3})\n"
     ]
    }
   ],
   "source": [
    "d = collections.OrderedDict()\n",
    "d[\"a\"] = 1\n",
    "d[\"b\"] = 2\n",
    "d[\"c\"] = 3\n",
    "print(d)"
   ]
  },
  {
   "cell_type": "code",
   "execution_count": null,
   "metadata": {},
   "outputs": [],
   "source": []
  }
 ],
 "metadata": {
  "kernelspec": {
   "display_name": "Python 3",
   "language": "python",
   "name": "python3"
  },
  "language_info": {
   "codemirror_mode": {
    "name": "ipython",
    "version": 3
   },
   "file_extension": ".py",
   "mimetype": "text/x-python",
   "name": "python",
   "nbconvert_exporter": "python",
   "pygments_lexer": "ipython3",
   "version": "3.13.0"
  }
 },
 "nbformat": 4,
 "nbformat_minor": 2
}
