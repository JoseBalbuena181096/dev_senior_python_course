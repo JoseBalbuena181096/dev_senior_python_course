{
 "cells": [
  {
   "cell_type": "markdown",
   "metadata": {},
   "source": [
    "# Las colecciones en Python\n",
    "Las **colecciones en Python** son estructurar de datos que permiten almacenar y manipular  conjuntos de valores de manera eficiente. Las cuatro principales son:\n"
   ]
  },
  {
   "cell_type": "markdown",
   "metadata": {},
   "source": [
    "## **Listas** (`List`)\n",
    "Son colecciones ordenadas y mutables que pueden contenerr elementos de diferentes tipos-\n",
    "\n",
    "### **Características**:\n",
    "- Permite duplicados.\n",
    "- Son indexadas (Pueden acceder a elementos por su posición)\n",
    "- Se pueden modificar (Agregar, Eliminar o cambiar un elemento)\n",
    "\n",
    "Permitir datos duplicados\n",
    "tutorial: Jupyter notebook: https://www.datacamp.com/tutorial/markdown-in-jupyter-notebook\n"
   ]
  },
  {
   "cell_type": "code",
   "execution_count": 3,
   "metadata": {},
   "outputs": [
    {
     "data": {
      "text/plain": [
       "'mazanas'"
      ]
     },
     "execution_count": 3,
     "metadata": {},
     "output_type": "execute_result"
    }
   ],
   "source": [
    "# key, index  0        1          2\n",
    "frutas = ['mazanas', 'banano', 'cereza']\n",
    "frutas\n",
    "frutas.append('naranja') # Agregar un elemento al final\n",
    "frutas.remove('banano')\n",
    "frutas\n",
    "frutas[0]"
   ]
  },
  {
   "cell_type": "markdown",
   "metadata": {},
   "source": [
    "## Tuplas (`tuple`)\n",
    "\n",
    "Las tuplas son similares a las listas, pero son **imutables**, es decir no se pueden modificar después de su creación.\n",
    "\n",
    "### Características:\n",
    "- Permiten duplicados.\n",
    "- Son indexadas(Puenen acceder a los elementos por su posición).\n",
    "- No se pueden modificar despues de su creación."
   ]
  },
  {
   "cell_type": "code",
   "execution_count": 5,
   "metadata": {},
   "outputs": [
    {
     "name": "stdout",
     "output_type": "stream",
     "text": [
      "10\n"
     ]
    }
   ],
   "source": [
    "coordenadas = (10, 30)\n",
    "print(coordenadas[0])\n",
    "# coordenadas[1] = 20 # X esto genera un (TypeError)\n"
   ]
  },
  {
   "cell_type": "markdown",
   "metadata": {},
   "source": [
    "## Conjuntos (`Set`)\n",
    "Los sets son colecciones **no ordenadas** de elementos  **unicos**.  \n",
    "\n",
    "### Caracteristas\n",
    "- No permitem duplicados.\n",
    "- No tienen índices (No se puede acceder a un elemento por su posición).\n",
    "- Se pueden modificar (agregar o eliminar elementos)."
   ]
  },
  {
   "cell_type": "code",
   "execution_count": 6,
   "metadata": {},
   "outputs": [
    {
     "name": "stdout",
     "output_type": "stream",
     "text": [
      "{1, 2, 3, 4, 5, 6, 7}\n"
     ]
    }
   ],
   "source": [
    "numeros = [1,2,3,4,4,5,6,6,7,7]\n",
    "numeros_unicos = set(numeros)\n",
    "print(numeros_unicos)"
   ]
  },
  {
   "cell_type": "markdown",
   "metadata": {},
   "source": [
    "### Operaciones matemáticas con conjuntos"
   ]
  },
  {
   "cell_type": "code",
   "execution_count": 8,
   "metadata": {},
   "outputs": [
    {
     "name": "stdout",
     "output_type": "stream",
     "text": [
      "{1, 2, 3, 4, 5, 6, 7, 8, 9}\n",
      "{2, 4, 6}\n"
     ]
    }
   ],
   "source": [
    "pares = {2, 4, 6, 8}\n",
    "inpares = {1, 3, 5, 7, 9}\n",
    "\n",
    "numeros = {1, 2, 3, 4, 5, 6}\n",
    "\n",
    "union_numeros = pares | inpares\n",
    "print(union_numeros)\n",
    "\n",
    "diferentes = numeros - inpares\n",
    "print(diferentes)"
   ]
  },
  {
   "cell_type": "code",
   "execution_count": 10,
   "metadata": {},
   "outputs": [
    {
     "name": "stdout",
     "output_type": "stream",
     "text": [
      "{'mazanas', 'cereza', 'naranja'}\n",
      "{'mazanas', 'naranja'}\n"
     ]
    }
   ],
   "source": [
    "frutas = set(frutas)\n",
    "print(frutas)\n",
    "frutas.discard('cereza') # eleminar un elemento del set\n",
    "print(frutas)"
   ]
  },
  {
   "cell_type": "code",
   "execution_count": 11,
   "metadata": {},
   "outputs": [
    {
     "name": "stdout",
     "output_type": "stream",
     "text": [
      "{1, 3, 4, 5, 6}\n"
     ]
    }
   ],
   "source": [
    "numero = {1,2,3,4}\n",
    "# añadir un elemto al set\n",
    "numeros.add(5) # Agregar un elemento\n",
    "numeros.remove(2) # Eliminar un elemento\n",
    "print(numeros)"
   ]
  },
  {
   "cell_type": "code",
   "execution_count": 15,
   "metadata": {},
   "outputs": [
    {
     "name": "stdout",
     "output_type": "stream",
     "text": [
      "{1, 2, 3, 4, 7, 8, 9}\n"
     ]
    }
   ],
   "source": [
    "numeros = {1,2,3,4}\n",
    "numeros.update([7,8,9])\n",
    "print(numeros)"
   ]
  },
  {
   "cell_type": "markdown",
   "metadata": {},
   "source": [
    "## Diccionarios (`Dict`)\n",
    "\n",
    "Los `dict` almacenan pares **indice-valor**, permite acceder a los valores a travez de un índice único.\n",
    "\n",
    "### Características:\n",
    "- No permite claves(índices) duplicados.\n",
    "- Los valores se pueden modificar, son mutables.\n",
    "- Son rápidos de buscar.\n"
   ]
  },
  {
   "cell_type": "code",
   "execution_count": 12,
   "metadata": {},
   "outputs": [
    {
     "name": "stdout",
     "output_type": "stream",
     "text": [
      "{'nombre': 'Juan', 'edad': 27, 'ciudad': 'Bogota'}\n"
     ]
    }
   ],
   "source": [
    "persona = {\n",
    "    \"nombre\" : \"Juan\",\n",
    "    \"edad\" : 27,\n",
    "    \"ciudad\": \"Bogota\"\n",
    "}\n",
    "print(persona)"
   ]
  },
  {
   "cell_type": "code",
   "execution_count": 14,
   "metadata": {},
   "outputs": [
    {
     "name": "stdout",
     "output_type": "stream",
     "text": [
      "Juan\n",
      "{'nombre': 'Juan', 'edad': 28, 'ciudad': 'Bogota', 'profecion': 'Ingeniero'}\n"
     ]
    }
   ],
   "source": [
    "# acceso a un dato\n",
    "print(persona['nombre']) ## acceder a al valor de la clave \"nombre\"\n",
    "persona['edad'] = 28 # Modifica un valor\n",
    "persona[\"profecion\"] = \"Ingeniero\" # Agrega un numero par indice /valor\n",
    "print(persona)"
   ]
  },
  {
   "cell_type": "code",
   "execution_count": null,
   "metadata": {},
   "outputs": [],
   "source": []
  },
  {
   "cell_type": "code",
   "execution_count": null,
   "metadata": {},
   "outputs": [],
   "source": []
  }
 ],
 "metadata": {
  "kernelspec": {
   "display_name": "Python 3",
   "language": "python",
   "name": "python3"
  },
  "language_info": {
   "codemirror_mode": {
    "name": "ipython",
    "version": 3
   },
   "file_extension": ".py",
   "mimetype": "text/x-python",
   "name": "python",
   "nbconvert_exporter": "python",
   "pygments_lexer": "ipython3",
   "version": "3.13.0"
  }
 },
 "nbformat": 4,
 "nbformat_minor": 2
}
