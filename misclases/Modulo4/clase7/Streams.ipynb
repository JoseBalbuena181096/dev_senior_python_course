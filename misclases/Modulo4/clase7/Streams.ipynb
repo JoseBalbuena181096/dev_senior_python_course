{
 "cells": [
  {
   "cell_type": "code",
   "execution_count": 1,
   "metadata": {},
   "outputs": [
    {
     "name": "stdout",
     "output_type": "stream",
     "text": [
      "<class 'list'>\n"
     ]
    }
   ],
   "source": [
    "numeros = [1,2,3,4,5,6,7]\n",
    "print(type(numeros))\n"
   ]
  },
  {
   "cell_type": "code",
   "execution_count": 2,
   "metadata": {},
   "outputs": [
    {
     "name": "stdout",
     "output_type": "stream",
     "text": [
      "[1, 4, 9, 16, 25, 36, 49]\n"
     ]
    }
   ],
   "source": [
    "cuadrados = map(lambda x:x**2, numeros)\n",
    "print(list(cuadrados))"
   ]
  },
  {
   "cell_type": "code",
   "execution_count": 3,
   "metadata": {},
   "outputs": [
    {
     "name": "stdout",
     "output_type": "stream",
     "text": [
      "[2, 4, 6]\n"
     ]
    }
   ],
   "source": [
    "numeros = [1,2,3,4,5,6,7]\n",
    "pares = list(filter(lambda x : x%2 == 0, numeros))\n",
    "print(pares)"
   ]
  },
  {
   "cell_type": "markdown",
   "metadata": {},
   "source": [
    "### Ejemplo: Sumar todos los elementos de la lista"
   ]
  },
  {
   "cell_type": "code",
   "execution_count": 4,
   "metadata": {},
   "outputs": [
    {
     "name": "stdout",
     "output_type": "stream",
     "text": [
      "15\n"
     ]
    }
   ],
   "source": [
    "from functools import  reduce\n",
    "\n",
    "numeros = [1,2,3,4,5]\n",
    "\n",
    "suma = reduce(lambda x,y : x + y, numeros)\n",
    "print(suma)\n",
    "\n"
   ]
  },
  {
   "cell_type": "markdown",
   "metadata": {},
   "source": [
    "### Ejemplo encontrar el numero mas grande de una lista"
   ]
  },
  {
   "cell_type": "code",
   "execution_count": 5,
   "metadata": {},
   "outputs": [
    {
     "name": "stdout",
     "output_type": "stream",
     "text": [
      "5\n"
     ]
    }
   ],
   "source": [
    "from functools import  reduce\n",
    "\n",
    "numeros = [1,2,3,4,5]\n",
    "\n",
    "mayor = reduce(lambda x,y : x if x > y else y, numeros)\n",
    "print(mayor)"
   ]
  },
  {
   "cell_type": "code",
   "execution_count": 9,
   "metadata": {},
   "outputs": [
    {
     "name": "stdout",
     "output_type": "stream",
     "text": [
      "1\n"
     ]
    }
   ],
   "source": [
    "from functools import  reduce\n",
    "\n",
    "numeros = [1,2,3,4,5]\n",
    "\n",
    "menor = reduce(lambda x,y : x if x < y else y, numeros)\n",
    "print(menor)"
   ]
  },
  {
   "cell_type": "markdown",
   "metadata": {},
   "source": [
    "### Ejemplo: Procesamiento de ventas en una tienda"
   ]
  },
  {
   "cell_type": "code",
   "execution_count": 13,
   "metadata": {},
   "outputs": [
    {
     "name": "stdout",
     "output_type": "stream",
     "text": [
      "Ventas normales [120, 60, 80, 150, 50, 75, 200]\n",
      "ventas con descuento [108.0, 54.0, 72.0, 135.0, 45.0, 67.5, 180.0]\n"
     ]
    }
   ],
   "source": [
    "# Lista de ventas\n",
    "ventas = [120, 60, 80, 150, 50, 75, 200]\n",
    "\n",
    "# Aplicar un descuento del 10 a todos los productos\n",
    "descuentos = list(map(lambda x : x*0.9, ventas))\n",
    "\n",
    "print(f'Ventas normales {ventas}')\n",
    "print(f'ventas con descuento {descuentos}')"
   ]
  },
  {
   "cell_type": "code",
   "execution_count": 15,
   "metadata": {},
   "outputs": [
    {
     "name": "stdout",
     "output_type": "stream",
     "text": [
      "Ventas mayores a $100 [120, 150, 200]\n"
     ]
    }
   ],
   "source": [
    "# Filtro solo ventas mayores a 10\n",
    "ventas_filtro = list(filter(lambda venta : venta > 100, ventas))\n",
    "\n",
    "print(f'Ventas mayores a $100 {ventas_filtro}')"
   ]
  },
  {
   "cell_type": "code",
   "execution_count": 19,
   "metadata": {},
   "outputs": [
    {
     "name": "stdout",
     "output_type": "stream",
     "text": [
      "{'Leche': 4500.0, 'Pan': 450.0, 'Comida de mi perro': 90.0}\n"
     ]
    }
   ],
   "source": [
    "# lista ventas\n",
    "ventas = {\n",
    "    \"Leche\": 5000,\n",
    "    \"Pan\": 500,\n",
    "    \"Comida de mi perro\": 100\n",
    "}\n",
    "\n",
    "ventas_descuento = dict(map(lambda venta : (venta[0], venta[1]*0.9), ventas.items()))\n",
    "print(ventas_descuento)\n"
   ]
  },
  {
   "cell_type": "code",
   "execution_count": 28,
   "metadata": {},
   "outputs": [
    {
     "name": "stdout",
     "output_type": "stream",
     "text": [
      "{'Leche': 4500.0, 'Pan': 450.0, 'Comida de mi perro': 90.0}\n",
      "{'Leche': 4500.0, 'Pan': 450.0}\n",
      "ventas con iva {'Leche': 5355.0, 'Pan': 535.5, 'Comida de mi perro': 107.1}\n"
     ]
    }
   ],
   "source": [
    "from abc import ABC, abstractmethod\n",
    "\n",
    "# Interfaz para aplicar un descuento\n",
    "class DescuentoStrategy(ABC):\n",
    "    @abstractmethod\n",
    "    def aplicar_descuento(self, monto: float)-> float:\n",
    "        pass\n",
    "\n",
    "class Descuento10PorCiento(DescuentoStrategy):\n",
    "    def aplicar_descuento(self, monto):\n",
    "        return monto * 0.9\n",
    "\n",
    "\n",
    "class FiltroVentas:\n",
    "    def __init__(self, umbral:float):\n",
    "        self.umbral = umbral\n",
    "\n",
    "    def filtrarPorPrecio(self, ventas:dict):\n",
    "        return dict(filter(lambda item: (item[1] > self.umbral), ventas.items()))\n",
    "\n",
    "class GestorVentas:\n",
    "    def __init__(self, ventas:dict, estrategia_descuento: DescuentoStrategy):\n",
    "        self.ventas = ventas\n",
    "        self.estrategia_descuento = estrategia_descuento\n",
    "\n",
    "    def aplicar_descuento(self):\n",
    "        return dict(map(lambda item:(item[0], self.estrategia_descuento.aplicar_descuento(item[1])), self.ventas.items()))        \n",
    "\n",
    "class CalculadoraIva:\n",
    "    def __init__(self, tasa_iva:float):\n",
    "        self.tasa_iva = tasa_iva\n",
    "\n",
    "    def aplicar_iva(self, ventas:dict) -> dict:\n",
    "        return {id_venta: monto*(1+self.tasa_iva) for id_venta, monto in ventas.items()}\n",
    "\n",
    "estrategia_descuento = Descuento10PorCiento()\n",
    "gestor = GestorVentas(ventas, estrategia_descuento)\n",
    "ventas_descuento = gestor.aplicar_descuento()\n",
    "\n",
    "filtro = FiltroVentas(100)\n",
    "ventas_filtro = filtro.filtrarPorPrecio(ventas_descuento)\n",
    "print(ventas_descuento)\n",
    "print(ventas_filtro)\n",
    "\n",
    "calcular_iva = CalculadoraIva(0.19)\n",
    "ventas_con_iva = calcular_iva.aplicar_iva(ventas_descuento)\n",
    "print(f'ventas con iva {ventas_con_iva}')\n"
   ]
  },
  {
   "cell_type": "code",
   "execution_count": 36,
   "metadata": {},
   "outputs": [
    {
     "name": "stdout",
     "output_type": "stream",
     "text": [
      "Empleado Walter Estado: Disponible\n",
      "100\n",
      "Estado de Walter cambiado Volando\n",
      "Empleado Walter Estado: Volando\n"
     ]
    }
   ],
   "source": [
    "from abc import ABC, abstractmethod\n",
    "\n",
    "class EstadoEmpleado(ABC):\n",
    "    @abstractmethod\n",
    "    def obtener_estado(self):\n",
    "        pass\n",
    "\n",
    "class Volando(EstadoEmpleado):\n",
    "    def obtener_estado(self):\n",
    "        return \"Volando\"\n",
    "\n",
    "class Descansando(EstadoEmpleado):\n",
    "    def obtener_estado(self):\n",
    "        return \"Descansando\"\n",
    "\n",
    "class Disponible(EstadoEmpleado):\n",
    "    def obtener_estado(self):\n",
    "        return \"Disponible\"\n",
    "\n",
    "class NoDisponible(EstadoEmpleado):\n",
    "    def obtener_estado(self):\n",
    "        return \"No Disponible\"\n",
    "\n",
    "class Empleado:\n",
    "    def __init__(self, nombre, estado:EstadoEmpleado):\n",
    "        self.nombre = nombre\n",
    "        self.estado = estado\n",
    "    \n",
    "    def cambiar_estado(self, nuevo_estado: EstadoEmpleado):\n",
    "        self.estado = nuevo_estado\n",
    "\n",
    "    def obtener_info(self):\n",
    "        return f'Empleado {self.nombre} Estado: {self.estado.obtener_estado()}'\n",
    "\n",
    "    \n",
    "\n",
    "class Ruta(ABC):\n",
    "    @abstractmethod\n",
    "    def obtener_costo(self):\n",
    "        pass\n",
    "\n",
    "class RutaEconomica(Ruta):\n",
    "    def obtener_costo(self):\n",
    "        return 100\n",
    "\n",
    "class RutaPremium(Ruta):\n",
    "    def obtener_costo(self):\n",
    "        return 150\n",
    "\n",
    "class RutaExtraPremuim(Ruta):\n",
    "    def obtener_costo(self):\n",
    "        return 200\n",
    "\n",
    "class ControlRutas:\n",
    "    def __init__(self, rutas:list[Ruta]):\n",
    "        self.rutas = {type(ruta).__name__ : ruta for ruta in rutas}\n",
    "    \n",
    "    def obtener_precio_ruta(self, nombre_ruta:str):\n",
    "        ruta = self.rutas.get(nombre_ruta)\n",
    "        if ruta:\n",
    "            return ruta.obtener_costo()\n",
    "        else:\n",
    "            raise ValueError('Ruta no existe')\n",
    "\n",
    "class ControlEmpleados:\n",
    "    def __init__(self):\n",
    "        self.empleados = []\n",
    "\n",
    "    def agregar_empleados(self, empleado:Empleado):\n",
    "        self.empleados.append(empleado)\n",
    "\n",
    "    def lista_empleados(self):\n",
    "        for empleado in self.empleados:\n",
    "            print(empleado.obtener_info())\n",
    "\n",
    "    def cambiar_estado_empleado(self, nombre:str, nuevo_estado:EstadoEmpleado):\n",
    "        for empleado in self.empleados:\n",
    "            if empleado.nombre == nombre:\n",
    "                empleado.cambiar_estado(nuevo_estado)\n",
    "                print(f\"Estado de {nombre} cambiado {empleado.estado.obtener_estado()}\")\n",
    "                return\n",
    "        print('No se encontro el empleado')\n",
    "\n",
    "\n",
    "empleado1 = Empleado('Walter', Disponible())\n",
    "control_empleados = ControlEmpleados()\n",
    "\n",
    "\n",
    "control_empleados.agregar_empleados(empleado1)\n",
    "ruta_Economica = RutaEconomica()\n",
    "\n",
    "control_empleados.lista_empleados()\n",
    "control_rutas = ControlRutas([ruta_Economica])\n",
    "print(control_rutas.obtener_precio_ruta('RutaEconomica'))\n",
    "\n",
    "control_empleados.cambiar_estado_empleado(\"Walter\", Volando())\n",
    "control_empleados.lista_empleados()\n",
    "\n",
    "\n",
    "\n",
    "\n"
   ]
  },
  {
   "cell_type": "code",
   "execution_count": null,
   "metadata": {},
   "outputs": [],
   "source": []
  },
  {
   "cell_type": "code",
   "execution_count": null,
   "metadata": {},
   "outputs": [],
   "source": []
  },
  {
   "cell_type": "code",
   "execution_count": null,
   "metadata": {},
   "outputs": [],
   "source": []
  }
 ],
 "metadata": {
  "kernelspec": {
   "display_name": "Python 3",
   "language": "python",
   "name": "python3"
  },
  "language_info": {
   "codemirror_mode": {
    "name": "ipython",
    "version": 3
   },
   "file_extension": ".py",
   "mimetype": "text/x-python",
   "name": "python",
   "nbconvert_exporter": "python",
   "pygments_lexer": "ipython3",
   "version": "3.13.0"
  }
 },
 "nbformat": 4,
 "nbformat_minor": 2
}
