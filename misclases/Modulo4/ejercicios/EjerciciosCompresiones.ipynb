{
 "cells": [
  {
   "cell_type": "markdown",
   "metadata": {},
   "source": [
    "# **Ejercicios de Comprensiones en Python**  \n",
    "\n",
    "1. **Lista de Cuadrados**  \n",
    "   Usa una comprensión de lista para generar una lista con los cuadrados de los primeros `n` números naturales.  \n"
   ]
  },
  {
   "cell_type": "code",
   "execution_count": 2,
   "metadata": {},
   "outputs": [
    {
     "name": "stdout",
     "output_type": "stream",
     "text": [
      "[0, 1, 4, 9, 16, 25, 36, 49, 64, 81]\n"
     ]
    }
   ],
   "source": [
    "numeros = 10\n",
    "cuadrados = [n**2 for n in range(numeros)]\n",
    "print(cuadrados)"
   ]
  },
  {
   "cell_type": "markdown",
   "metadata": {},
   "source": [
    "2. **Filtrar Números Pares**  \n",
    "   Crea una comprensión de lista que filtre los números pares de una lista dada.  "
   ]
  },
  {
   "cell_type": "code",
   "execution_count": 3,
   "metadata": {},
   "outputs": [
    {
     "name": "stdout",
     "output_type": "stream",
     "text": [
      "[2, 4, 6, 8]\n"
     ]
    }
   ],
   "source": [
    "numeros = [1,2,3,4,5,6,7,8]\n",
    "pares = [ n for n in numeros if n%2 == 0]\n",
    "print(pares)"
   ]
  },
  {
   "cell_type": "markdown",
   "metadata": {},
   "source": [
    "3. **Longitud de Palabras**  \n",
    "   Dada una lista de palabras, usa una comprensión de lista para obtener una lista con la longitud de cada palabra.  \n"
   ]
  },
  {
   "cell_type": "code",
   "execution_count": 4,
   "metadata": {},
   "outputs": [
    {
     "name": "stdout",
     "output_type": "stream",
     "text": [
      "[2, 3, 5, 7]\n"
     ]
    }
   ],
   "source": [
    "palabras = ['hi', 'bye', 'hello', 'say bro']\n",
    "longitudes = [len(word) for word in palabras]\n",
    "print(longitudes)"
   ]
  },
  {
   "cell_type": "markdown",
   "metadata": {},
   "source": [
    "4. **Convertir Texto a Mayúsculas**  \n",
    "   Usa una comprensión de lista para transformar todas las palabras de una lista en mayúsculas.  \n"
   ]
  },
  {
   "cell_type": "code",
   "execution_count": 5,
   "metadata": {},
   "outputs": [
    {
     "name": "stdout",
     "output_type": "stream",
     "text": [
      "['HI', 'BYE', 'HELLO', 'SAY BRO']\n"
     ]
    }
   ],
   "source": [
    "palabras = ['hi', 'bye', 'hello', 'say bro']\n",
    "uppers = [word.upper() for word in palabras]\n",
    "print(uppers)"
   ]
  },
  {
   "cell_type": "markdown",
   "metadata": {},
   "source": [
    "5. **Diccionario de Cuadrados**  \n",
    "   Crea una comprensión de diccionario donde las claves sean números del `1` al `n` y los valores sean sus cuadrados.  \n"
   ]
  },
  {
   "cell_type": "code",
   "execution_count": 7,
   "metadata": {},
   "outputs": [
    {
     "name": "stdout",
     "output_type": "stream",
     "text": [
      "{0: 0, 1: 1, 2: 4, 3: 9, 4: 16, 5: 25, 6: 36, 7: 49, 8: 64, 9: 81}\n"
     ]
    }
   ],
   "source": [
    "n = 10\n",
    "cuadrados = {n:n**2 for n in range(n)}\n",
    "print(cuadrados)"
   ]
  },
  {
   "cell_type": "markdown",
   "metadata": {},
   "source": [
    "6. **Filtrar y Transformar**  \n",
    "   Genera una lista con los cubos de los números impares de una lista dada usando una sola comprensión.  \n"
   ]
  },
  {
   "cell_type": "code",
   "execution_count": 8,
   "metadata": {},
   "outputs": [
    {
     "name": "stdout",
     "output_type": "stream",
     "text": [
      "[1, 27, 125, 343, 729]\n"
     ]
    }
   ],
   "source": [
    "numeros = [1,2,3,4,5,6,7,8,9]\n",
    "cubos_impares = [n**3 for n in numeros if n%2 != 0]\n",
    "print(cubos_impares)"
   ]
  },
  {
   "cell_type": "markdown",
   "metadata": {},
   "source": [
    "7. **Invertir Claves y Valores**  \n",
    "   Dado un diccionario, usa una comprensión de diccionario para intercambiar sus claves y valores.  \n"
   ]
  },
  {
   "cell_type": "code",
   "execution_count": 9,
   "metadata": {},
   "outputs": [
    {
     "name": "stdout",
     "output_type": "stream",
     "text": [
      "{'1': 'hola', '2': 'adios', '3': 'amigo'}\n"
     ]
    }
   ],
   "source": [
    "dict = {\n",
    "    \"hola\": '1',\n",
    "    \"adios\": '2',\n",
    "    \"amigo\": '3'\n",
    "}\n",
    "\n",
    "inv_dict = { value: key for key, value in dict.items() }\n",
    "print(inv_dict)"
   ]
  },
  {
   "cell_type": "markdown",
   "metadata": {},
   "source": [
    "8. **Palabras con más de 5 Letras**  \n",
    "   Usa una comprensión de lista para extraer de una lista de palabras solo aquellas que tengan más de 5 letras.  \n"
   ]
  },
  {
   "cell_type": "code",
   "execution_count": 10,
   "metadata": {},
   "outputs": [
    {
     "name": "stdout",
     "output_type": "stream",
     "text": [
      "['Hola como estas', 'Estas muy bien']\n"
     ]
    }
   ],
   "source": [
    "palabras = [\"Hola\", \"Hola como estas\", \"tu\", \"Estas muy bien\"]\n",
    "\n",
    "more_five_words = [word for word in palabras if len(word) > 5 ]\n",
    "print(more_five_words) "
   ]
  },
  {
   "cell_type": "markdown",
   "metadata": {},
   "source": [
    "9. **Unir Listas en un Diccionario**  \n",
    "   Dadas dos listas, una con nombres y otra con edades, crea un diccionario donde los nombres sean claves y las edades valores.  \n"
   ]
  },
  {
   "cell_type": "code",
   "execution_count": 12,
   "metadata": {},
   "outputs": [
    {
     "name": "stdout",
     "output_type": "stream",
     "text": [
      "{'jose': 28, 'juan': 19, 'jorge': 39}\n"
     ]
    }
   ],
   "source": [
    "nombres = ['jose', 'juan', 'jorge']\n",
    "edades = [28, 19, 39]\n",
    "\n",
    "personas = {nombre:edad for nombre, edad in zip(nombres, edades)}\n",
    "print(personas)"
   ]
  },
  {
   "cell_type": "markdown",
   "metadata": {},
   "source": [
    "10. **Eliminar Vocales de una Cadena**  \n",
    "   Usa una comprensión de lista para eliminar todas las vocales de una cadena dada y devolver el texto sin ellas.  "
   ]
  },
  {
   "cell_type": "code",
   "execution_count": 15,
   "metadata": {},
   "outputs": [
    {
     "name": "stdout",
     "output_type": "stream",
     "text": [
      "hll\n"
     ]
    }
   ],
   "source": [
    "def withOutVocal(word):\n",
    "    return ''.join([l for l in word if l not in ('a', 'e', 'i', 'o', 'u')])\n",
    "\n",
    "word = 'hello'\n",
    "print(withOutVocal(word))"
   ]
  }
 ],
 "metadata": {
  "kernelspec": {
   "display_name": "Python 3",
   "language": "python",
   "name": "python3"
  },
  "language_info": {
   "codemirror_mode": {
    "name": "ipython",
    "version": 3
   },
   "file_extension": ".py",
   "mimetype": "text/x-python",
   "name": "python",
   "nbconvert_exporter": "python",
   "pygments_lexer": "ipython3",
   "version": "3.13.0"
  }
 },
 "nbformat": 4,
 "nbformat_minor": 2
}
