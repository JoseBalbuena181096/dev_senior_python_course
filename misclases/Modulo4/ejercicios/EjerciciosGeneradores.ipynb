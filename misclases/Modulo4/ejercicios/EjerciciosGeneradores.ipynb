{
 "cells": [
  {
   "cell_type": "markdown",
   "metadata": {},
   "source": [
    "# **Ejercicios de Iteradores en Python**  \n",
    "\n",
    "1. **Iterador Personalizado**  \n",
    "   Crea una clase que implemente un iterador para generar los primeros `n` números pares. "
   ]
  },
  {
   "cell_type": "code",
   "execution_count": 23,
   "metadata": {},
   "outputs": [
    {
     "name": "stdout",
     "output_type": "stream",
     "text": [
      "0\n",
      "2\n",
      "4\n",
      "6\n",
      "8\n",
      "10\n",
      "12\n",
      "14\n",
      "16\n",
      "18\n",
      "20\n"
     ]
    }
   ],
   "source": [
    "\n",
    "class Pares:\n",
    "    def __init__(self, n):\n",
    "        self.n = n\n",
    "        self.contador = 0\n",
    "        self.actual = 0\n",
    "\n",
    "    def __iter__(self):\n",
    "        return self\n",
    "\n",
    "    def __next__(self):\n",
    "        if self.contador > self.n:\n",
    "            raise StopIteration\n",
    "        \n",
    "        par = self.actual\n",
    "        self.actual += 2\n",
    "        self.contador += 1\n",
    "        return par\n",
    "\n",
    "# Uso del iterador\n",
    "iterador = Pares(10)\n",
    "for num in iterador:\n",
    "    print(num)"
   ]
  },
  {
   "cell_type": "markdown",
   "metadata": {},
   "source": [
    "2. **Iteración sobre un Archivo**  \n",
    "   Implementa un iterador que lea un archivo de texto línea por línea sin cargarlo completamente en memoria.  \n"
   ]
  },
  {
   "cell_type": "code",
   "execution_count": 21,
   "metadata": {},
   "outputs": [
    {
     "name": "stdout",
     "output_type": "stream",
     "text": [
      "Balbuena\n",
      "Palma\n",
      "Atlixco \n",
      "Puebla\n",
      "\n"
     ]
    }
   ],
   "source": [
    "import sys\n",
    "import os\n",
    "\n",
    "# Get the current working directory instead of using __file__\n",
    "current_dir = os.getcwd()\n",
    "sys.path.append(current_dir)\n",
    "\n",
    "\n",
    "class ReadLine:\n",
    "    def __init__(self, path):\n",
    "        self.path = path\n",
    "        self.fichero = open(path)\n",
    "        self.line = self.fichero.readline()\n",
    "\n",
    "    def __iter__(self):\n",
    "        return self\n",
    "\n",
    "    def __next__(self):\n",
    "      if self.line == \"\":\n",
    "        self.fichero.close()\n",
    "        raise StopIteration\n",
    "      self.line = self.fichero.readline()\n",
    "      return self.line.rstrip('\\n')\n",
    "  \n",
    "    def __del__(self):\n",
    "      \"\"\"\n",
    "      Destructor que cierra el archivo si aún está abierto.\n",
    "      \"\"\"\n",
    "      self.archivo.close()\n",
    "\n",
    "\n",
    "iterLine = ReadLine('ejemplo.txt')\n",
    "for line in iterLine:\n",
    "    print(line)\n"
   ]
  },
  {
   "cell_type": "markdown",
   "metadata": {},
   "source": [
    "3. **Iterador de Fibonacci**  \n",
    "   Diseña un iterador que genere la secuencia de Fibonacci hasta un número `n` de elementos.  \n"
   ]
  },
  {
   "cell_type": "code",
   "execution_count": 41,
   "metadata": {},
   "outputs": [
    {
     "name": "stdout",
     "output_type": "stream",
     "text": [
      "1\n",
      "1\n",
      "2\n",
      "3\n",
      "5\n",
      "8\n",
      "13\n",
      "21\n",
      "34\n",
      "55\n",
      "89\n"
     ]
    }
   ],
   "source": [
    "from dataclasses import  dataclass\n",
    "\n",
    "@dataclass\n",
    "class Fibo:\n",
    "    n: int\n",
    "    a: int = 0\n",
    "    b: int = 1\n",
    "    counter: int = 0\n",
    "\n",
    "    def __iter__(self):\n",
    "        return self\n",
    "\n",
    "    def __next__(self) -> float:\n",
    "        if self.counter > self.n:\n",
    "            raise StopIteration\n",
    "        self.a , self.b = self.b, self.a + self.b\n",
    "        self.counter += 1\n",
    "        return self.a\n",
    "\n",
    "# Uso del iterador\n",
    "iterador = Fibo(n=10)\n",
    "for num in iterador:\n",
    "    print(num)"
   ]
  },
  {
   "cell_type": "markdown",
   "metadata": {},
   "source": [
    "4. **Iterador de Números Primos**  \n",
    "   Crea un iterador que devuelva los primeros `n` números primos.  "
   ]
  },
  {
   "cell_type": "code",
   "execution_count": 53,
   "metadata": {},
   "outputs": [
    {
     "name": "stdout",
     "output_type": "stream",
     "text": [
      "2\n",
      "3\n",
      "5\n",
      "7\n",
      "11\n",
      "13\n",
      "17\n",
      "19\n",
      "23\n",
      "29\n"
     ]
    }
   ],
   "source": [
    "\n",
    "class Primos:\n",
    "    def __init__(self):\n",
    "        self.counter = 1\n",
    "    \n",
    "    def __iter__(self):\n",
    "        return self\n",
    "\n",
    "    def __next__(self):\n",
    "        self.counter += 1\n",
    "        while not self.is_prime(self.counter):\n",
    "            self.counter += 1\n",
    "        return self.counter\n",
    "        \n",
    "\n",
    "    @staticmethod\n",
    "    def is_prime(number):\n",
    "        if number < 2:\n",
    "            return False\n",
    "        for i in range(2, int(number ** 0.5) + 1):\n",
    "            if number % i == 0:\n",
    "                return False\n",
    "        return True\n",
    "\n",
    "# Uso del iterador\n",
    "iterador = Primos()\n",
    "for _ in range(10):\n",
    "    print(next(iterador))"
   ]
  },
  {
   "cell_type": "markdown",
   "metadata": {},
   "source": [
    "5. **Iterador con `iter()` y `next()`**  \n",
    "   Usa `iter()` y `next()` para recorrer una lista sin usar un bucle `for`.  "
   ]
  },
  {
   "cell_type": "code",
   "execution_count": null,
   "metadata": {},
   "outputs": [],
   "source": []
  },
  {
   "cell_type": "markdown",
   "metadata": {},
   "source": [
    "6. **Iterador de Caracteres en una Cadena**  \n",
    "   Implementa un iterador que devuelva cada carácter de una cadena uno por uno.  "
   ]
  },
  {
   "cell_type": "code",
   "execution_count": null,
   "metadata": {},
   "outputs": [],
   "source": []
  },
  {
   "cell_type": "markdown",
   "metadata": {},
   "source": [
    "7. **Iterador con Paso Personalizado**  \n",
    "   Construye un iterador que genere una secuencia de números desde `a` hasta `b` con un incremento personalizado.  \n"
   ]
  },
  {
   "cell_type": "code",
   "execution_count": null,
   "metadata": {},
   "outputs": [],
   "source": []
  },
  {
   "cell_type": "markdown",
   "metadata": {},
   "source": [
    "8. **Iterador Circular**  \n",
    "   Crea un iterador que recorra los elementos de una lista en un bucle infinito.  "
   ]
  },
  {
   "cell_type": "code",
   "execution_count": null,
   "metadata": {},
   "outputs": [],
   "source": []
  },
  {
   "cell_type": "markdown",
   "metadata": {},
   "source": [
    "9. **Iterador con Estado Persistente**  \n",
    "   Diseña un iterador que recuerde su estado entre ejecuciones, incluso si se pausa. "
   ]
  },
  {
   "cell_type": "code",
   "execution_count": null,
   "metadata": {},
   "outputs": [],
   "source": []
  },
  {
   "cell_type": "markdown",
   "metadata": {},
   "source": [
    "10. **Iterador para Filtrar Elementos**  \n",
    "   Implementa un iterador que filtre y devuelva solo los números impares de una lista dada.  "
   ]
  },
  {
   "cell_type": "code",
   "execution_count": null,
   "metadata": {},
   "outputs": [],
   "source": []
  }
 ],
 "metadata": {
  "kernelspec": {
   "display_name": "Python 3",
   "language": "python",
   "name": "python3"
  },
  "language_info": {
   "codemirror_mode": {
    "name": "ipython",
    "version": 3
   },
   "file_extension": ".py",
   "mimetype": "text/x-python",
   "name": "python",
   "nbconvert_exporter": "python",
   "pygments_lexer": "ipython3",
   "version": "3.13.0"
  }
 },
 "nbformat": 4,
 "nbformat_minor": 2
}
