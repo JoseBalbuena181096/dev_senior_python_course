{
 "cells": [
  {
   "cell_type": "code",
   "execution_count": 9,
   "metadata": {},
   "outputs": [
    {
     "name": "stdout",
     "output_type": "stream",
     "text": [
      "Usuario jose registrado con exito\n"
     ]
    }
   ],
   "source": [
    "import bcrypt\n",
    "\n",
    "class Ecommerce:\n",
    "    def __init__(self):\n",
    "        self.users = {}\n",
    "\n",
    "    def register(self, username, password):\n",
    "        salt = bcrypt.gensalt()\n",
    "        hashed_password = bcrypt.hashpw(password.encode(), salt)\n",
    "        self.users[username] = hashed_password\n",
    "        print(f\"Usuario {username} registrado con exito\")\n",
    "\n",
    "\n",
    "ecommerce = Ecommerce()\n",
    "ecommerce.register('jose', '123')\n",
    "\n"
   ]
  },
  {
   "cell_type": "code",
   "execution_count": null,
   "metadata": {},
   "outputs": [],
   "source": []
  },
  {
   "cell_type": "code",
   "execution_count": 8,
   "metadata": {},
   "outputs": [
    {
     "name": "stdout",
     "output_type": "stream",
     "text": [
      "Usuario jose registrado con éxito\n"
     ]
    }
   ],
   "source": [
    "import bcrypt\n",
    "\n",
    "class PasswordManager:\n",
    "    def encrypt_password(self, password: str) -> bytes:\n",
    "        salt = bcrypt.gensalt()\n",
    "        return bcrypt.hashpw(password.encode(), salt)\n",
    "    \n",
    "    def verify_password(self, password: str, hashed: bytes) -> bool:\n",
    "        return bcrypt.checkpw(password.encode(), hashed)\n",
    "\n",
    "class Ecommerce:\n",
    "    def __init__(self, password_manager: PasswordManager):\n",
    "        self.users = {}\n",
    "        self.password_manager = password_manager\n",
    "\n",
    "    def register(self, username: str, password: str):\n",
    "        hashed_password = self.password_manager.encrypt_password(password)\n",
    "        self.users[username] = hashed_password\n",
    "        print(f\"Usuario {username} registrado con éxito\")\n",
    "\n",
    "# Instanciar PasswordManager y pasarlo a Ecommerce\n",
    "password_manager = PasswordManager()\n",
    "ecommerce = Ecommerce(password_manager)\n",
    "ecommerce.register('jose', '123')\n"
   ]
  },
  {
   "cell_type": "code",
   "execution_count": 13,
   "metadata": {},
   "outputs": [
    {
     "name": "stdout",
     "output_type": "stream",
     "text": [
      "78.5\n",
      "24\n"
     ]
    }
   ],
   "source": [
    "class CalculadoraDeAreas:\n",
    "    def calcular_area(self, shape: str, **kwargs):\n",
    "        if shape == \"circulo\":\n",
    "            return 3.14 * (kwargs['radio'] ** 2)\n",
    "        elif shape == \"rectangulo\":\n",
    "            return kwargs[\"ancho\"] * kwargs[\"alto\"]\n",
    "\n",
    "calculadora = CalculadoraDeAreas()\n",
    "print(calculadora.calcular_area(\"circulo\", radio=5))\n",
    "print(calculadora.calcular_area(\"rectangulo\", ancho=4, alto=6))"
   ]
  },
  {
   "cell_type": "code",
   "execution_count": 16,
   "metadata": {},
   "outputs": [
    {
     "name": "stdout",
     "output_type": "stream",
     "text": [
      "Area de un circulo: 78.5\n",
      "Area de un triangulo: 20.0\n"
     ]
    }
   ],
   "source": [
    "from abc import ABC, abstractmethod\n",
    "\n",
    "class FigurasGeometricas(ABC):\n",
    "    @abstractmethod\n",
    "    def calcular_area(self)-> float:\n",
    "        pass\n",
    "\n",
    "class Circulo(FigurasGeometricas):\n",
    "    def __init__(self, radio):\n",
    "        self.radio = radio\n",
    "\n",
    "    def calcular_area(self) -> float:\n",
    "        return 3.14 * (self.radio ** 2)\n",
    "\n",
    "class Rectangulo(FigurasGeometricas):\n",
    "    def __init__(self, ancho:float, alto:float):\n",
    "        self.ancho = ancho\n",
    "        self.alto = alto\n",
    "\n",
    "    def calcular_area(self) -> float:\n",
    "        return self.ancho * self.alto\n",
    "        \n",
    "\n",
    "class Triangulo(FigurasGeometricas):\n",
    "    def __init__(self, base:float, altura:float):\n",
    "        self.base = base \n",
    "        self.altura = altura\n",
    "\n",
    "    def calcular_area(self) -> float:\n",
    "        return self.base * self.altura * 0.5\n",
    "\n",
    "class CalculadoraDeAreas:\n",
    "    def calcular(self, figura:FigurasGeometricas):\n",
    "        return figura.calcular_area()\n",
    "\n",
    "calculadora = CalculadoraDeAreas()\n",
    "circulo = Circulo(5)\n",
    "tringulo = Triangulo(10, 4)\n",
    "print(f\"Area de un circulo: {calculadora.calcular(circulo)}\")\n",
    "print(f\"Area de un triangulo: {calculadora.calcular(tringulo)}\")\n"
   ]
  },
  {
   "cell_type": "code",
   "execution_count": 18,
   "metadata": {},
   "outputs": [
    {
     "name": "stdout",
     "output_type": "stream",
     "text": [
      "El coche acelera\n"
     ]
    }
   ],
   "source": [
    "class Vehiculo:\n",
    "    def acelerar(self):\n",
    "        print(\"Aumento velocidad\")\n",
    "\n",
    "\n",
    "class Coche(Vehiculo):\n",
    "    def acelerar(self):\n",
    "        print(\"El coche acelera\")\n",
    "\n",
    "\n",
    "class Bicicleta(Vehiculo):\n",
    "    def acelerar(self):\n",
    "        raise NotImplementedError(\"Las bicicletas no tienen acelerador\")\n",
    "\n",
    "def provar_vehiculo(vehiculo: Vehiculo):\n",
    "    vehiculo.acelerar()\n",
    "\n",
    "coche = Coche()\n",
    "bicicleta = Bicicleta()\n",
    "provar_vehiculo(coche)\n",
    "#provar_vehiculo(bicicleta)"
   ]
  },
  {
   "cell_type": "code",
   "execution_count": 20,
   "metadata": {},
   "outputs": [
    {
     "name": "stdout",
     "output_type": "stream",
     "text": [
      "La bici se mueve\n",
      "El coche se mueve\n"
     ]
    }
   ],
   "source": [
    "from abc import ABC, abstractmethod\n",
    "\n",
    "class Vehiculo(ABC):\n",
    "    @abstractmethod\n",
    "    def moverse(self):\n",
    "        pass\n",
    "\n",
    "class VehiculoConMotor(Vehiculo):\n",
    "    @abstractmethod\n",
    "    def acelerar(self):\n",
    "        pass\n",
    "\n",
    "class VehiculoSinMotor(Vehiculo):\n",
    "    @abstractmethod\n",
    "    def pedalear(self):\n",
    "        pass\n",
    "\n",
    "class Coche(VehiculoConMotor):\n",
    "    def acelerar(self):\n",
    "        print(\"El coche acelera con el motor\")\n",
    "    \n",
    "    def moverse(self):\n",
    "        print(\"El coche se mueve\")\n",
    "\n",
    "class Bicicleta(VehiculoSinMotor):\n",
    "    def pedalear(self):\n",
    "        print(\"La persona pedelea\")\n",
    "\n",
    "    def moverse(self):\n",
    "        print(\"La bici se mueve\")\n",
    "\n",
    "def provar_vehiculo(vehiculo: Vehiculo):\n",
    "    vehiculo.moverse()\n",
    "\n",
    "coche = Coche()\n",
    "bici =  Bicicleta()\n",
    "provar_vehiculo(bici)\n",
    "provar_vehiculo(coche)"
   ]
  },
  {
   "cell_type": "code",
   "execution_count": 23,
   "metadata": {},
   "outputs": [
    {
     "name": "stdout",
     "output_type": "stream",
     "text": [
      "Enviar email Hola , soy jose\n"
     ]
    }
   ],
   "source": [
    "class EmailService:\n",
    "    def enviar_email(self, mensaje:str):\n",
    "        print(f'Enviar email {mensaje}')\n",
    "\n",
    "class Notificar:\n",
    "    def __init__(self):\n",
    "        self.email_servicio = EmailService()\n",
    "\n",
    "    def notificar(self, mensaje:str):\n",
    "        self.email_servicio.enviar_email(mensaje)\n",
    "\n",
    "notificar = Notificar()\n",
    "notificar.notificar(\"Hola , soy jose\")"
   ]
  },
  {
   "cell_type": "code",
   "execution_count": 28,
   "metadata": {},
   "outputs": [
    {
     "name": "stdout",
     "output_type": "stream",
     "text": [
      "Enviar email Hola como estas\n",
      "Enviar sms POR mi\n",
      "Enviar whatss EOEOEOE\n"
     ]
    }
   ],
   "source": [
    "from abc import  ABC, abstractmethod\n",
    "\n",
    "class INotificacion(ABC):\n",
    "    @abstractmethod\n",
    "    def enviar(self, mensaje: str):\n",
    "        pass\n",
    "\n",
    "class EmailService(INotificacion):\n",
    "    def enviar(self, mensaje:str):\n",
    "        print(f'Enviar email {mensaje}')\n",
    "\n",
    "class SMSServicie(INotificacion):\n",
    "    def enviar(self, mensaje):\n",
    "        print(f'Enviar sms {mensaje}')\n",
    "\n",
    "class WhatsServicie(INotificacion):\n",
    "    def enviar(self, mensaje):\n",
    "        print(f'Enviar whatss {mensaje}')\n",
    "\n",
    "class Notificardor:\n",
    "    def __init__(self, servicio: INotificacion):\n",
    "        self.servicio = servicio\n",
    "\n",
    "    def notificar(self, mensaje:str):\n",
    "        self.servicio.enviar(mensaje)\n",
    "\n",
    "email_notificar = Notificardor(EmailService())\n",
    "sms_notificador = Notificardor(SMSServicie())\n",
    "whats_notificador = Notificardor(WhatsServicie())\n",
    "email_notificar.notificar(\"Hola como estas\")\n",
    "sms_notificador.notificar(\"POR mi\")\n",
    "whats_notificador.notificar('EOEOEOE')\n"
   ]
  }
 ],
 "metadata": {
  "kernelspec": {
   "display_name": "Python 3",
   "language": "python",
   "name": "python3"
  },
  "language_info": {
   "codemirror_mode": {
    "name": "ipython",
    "version": 3
   },
   "file_extension": ".py",
   "mimetype": "text/x-python",
   "name": "python",
   "nbconvert_exporter": "python",
   "pygments_lexer": "ipython3",
   "version": "3.13.0"
  }
 },
 "nbformat": 4,
 "nbformat_minor": 2
}
