{
 "cells": [
  {
   "cell_type": "markdown",
   "metadata": {},
   "source": [
    "# Compresiones de listas y diccionarios en Python\n",
    "\n",
    "## Comprensión de una lista\n",
    "Una compresión de lista es una forma de nenerar un alista a partir de una secuencia de manera compacta.\n",
    "\n",
    "### Sintaxis\n",
    "\n",
    "nueva_lista = [**expresion** for **elemento** in iterable if **condición**]\n",
    "\n",
    "- **expresión**: Operación o transformación que aplica a cada elemento.\n",
    "- **iterable**: Fuente de datos\n",
    "- **condición(opcional)**: Filtrar los elementos "
   ]
  },
  {
   "cell_type": "code",
   "execution_count": 1,
   "metadata": {},
   "outputs": [
    {
     "name": "stdout",
     "output_type": "stream",
     "text": [
      "[1, 4, 9, 16, 25]\n"
     ]
    }
   ],
   "source": [
    "# Tradicional con for\n",
    "numeros = [1, 2, 3, 4, 5]\n",
    "cuadrados = []\n",
    "\n",
    "for num in numeros:\n",
    "    cuadrados.append(num**2)\n",
    "print(cuadrados)"
   ]
  },
  {
   "cell_type": "code",
   "execution_count": 3,
   "metadata": {},
   "outputs": [
    {
     "name": "stdout",
     "output_type": "stream",
     "text": [
      "[1, 4, 9, 16, 25]\n"
     ]
    }
   ],
   "source": [
    "# list compresion\n",
    "numeros = [1, 2, 3, 4, 5]\n",
    "cuadrados = [num ** 2 for num in numeros]\n",
    "print(cuadrados)"
   ]
  },
  {
   "cell_type": "markdown",
   "metadata": {},
   "source": [
    "# Ejemplos 2 pares"
   ]
  },
  {
   "cell_type": "code",
   "execution_count": 4,
   "metadata": {},
   "outputs": [
    {
     "name": "stdout",
     "output_type": "stream",
     "text": [
      "[2, 4, 6, 8, 10]\n"
     ]
    }
   ],
   "source": [
    "numeros = [1, 2, 3, 4, 5, 6, 7, 8, 9, 10]\n",
    "pares = [num for num in numeros if num%2 == 0]\n",
    "print(pares)"
   ]
  },
  {
   "cell_type": "markdown",
   "metadata": {},
   "source": [
    "## Ejemplo 3 conversores"
   ]
  },
  {
   "cell_type": "code",
   "execution_count": 5,
   "metadata": {},
   "outputs": [
    {
     "name": "stdout",
     "output_type": "stream",
     "text": [
      "['JUAN', 'PEDRO', 'MARIA', 'LUISA']\n"
     ]
    }
   ],
   "source": [
    "nombres = [\"Juan\", \"Pedro\", \"Maria\", \"Luisa\"]\n",
    "mayusculas = [nombre.upper() for nombre in nombres]\n",
    "print(mayusculas)"
   ]
  },
  {
   "cell_type": "markdown",
   "metadata": {},
   "source": [
    "## Comprensión de diccionarios\n",
    "Una compresión de un diccionario es una forma de generar  un diccionario a partir de una secuencia de manera compacta.\n",
    "\n",
    "### Sintaxis\n",
    "\n",
    "nueva_diccionario = {**clave**:valor for **elemento** in iterable if **condición**}\n",
    "\n",
    "- **clave**: definir la clave del diccionario\n",
    "- **valor**: valor asociado a la clave\n",
    "- **expresión**: Operación o transformación que aplica a cada elemento.\n",
    "- **iterable**: Fuente de datos\n",
    "- **condición(opcional)**: Filtrar los elementos "
   ]
  },
  {
   "cell_type": "code",
   "execution_count": 6,
   "metadata": {},
   "outputs": [
    {
     "name": "stdout",
     "output_type": "stream",
     "text": [
      "{1: 1, 2: 4, 3: 9, 4: 16, 5: 25}\n"
     ]
    }
   ],
   "source": [
    "numeros = [1,2, 3, 4, 5]\n",
    "cuadrados = {num:num**2 for num in numeros}\n",
    "print(cuadrados)"
   ]
  },
  {
   "cell_type": "code",
   "execution_count": 7,
   "metadata": {},
   "outputs": [
    {
     "name": "stdout",
     "output_type": "stream",
     "text": [
      "{'maria': 3200, 'pedro': 4000}\n"
     ]
    }
   ],
   "source": [
    "empleados = {\n",
    "    \"juan\": 2500,\n",
    "    \"maria\": 3200,\n",
    "    \"pedro\": 4000,\n",
    "    \"ana\": 2800\n",
    "}\n",
    "\n",
    "salarios_altos = {nombre: salario for nombre, salario in empleados.items() if salario > 3000}\n",
    "print(salarios_altos)"
   ]
  },
  {
   "cell_type": "code",
   "execution_count": 8,
   "metadata": {},
   "outputs": [
    {
     "name": "stdout",
     "output_type": "stream",
     "text": [
      "{'bogota': 'colombia', 'buenos aires': 'argentina', 'cdmx': 'mexico'}\n"
     ]
    }
   ],
   "source": [
    "capitales = {\"colombia\":\"bogota\", \"argentina\":\"buenos aires\", \"mexico\":\"cdmx\"}\n",
    "\n",
    "inverir = {capital:pais for pais, capital in capitales.items()}\n",
    "print(inverir)"
   ]
  },
  {
   "cell_type": "code",
   "execution_count": 9,
   "metadata": {},
   "outputs": [
    {
     "name": "stdout",
     "output_type": "stream",
     "text": [
      "lunes\n",
      "martes\n",
      "miercoles\n",
      "jueves\n",
      "viernes\n",
      "lunes\n",
      "martes\n",
      "miercoles\n",
      "jueves\n",
      "viernes\n"
     ]
    }
   ],
   "source": [
    "from itertools import  cycle\n",
    "\n",
    "dias = ['lunes', 'martes', \"miercoles\", \"jueves\", \"viernes\"]\n",
    "turnos = cycle(dias)\n",
    "\n",
    "for _ in range(10):\n",
    "    print(next(turnos))\n",
    "\n"
   ]
  },
  {
   "cell_type": "code",
   "execution_count": 10,
   "metadata": {},
   "outputs": [
    {
     "name": "stdout",
     "output_type": "stream",
     "text": [
      "('Vainilla', 'Chocolates', 'Fresas')\n",
      "('Vainilla', 'Chocolates', 'Mango')\n",
      "('Vainilla', 'Fresas', 'Mango')\n",
      "('Chocolates', 'Fresas', 'Mango')\n"
     ]
    }
   ],
   "source": [
    "from itertools import combinations\n",
    "\n",
    "sabores = [\"Vainilla\", \"Chocolates\", \"Fresas\", \"Mango\"]\n",
    "\n",
    "opciones = combinations(sabores, 3)\n",
    "\n",
    "for combinacion in opciones:\n",
    "    print(combinacion)"
   ]
  }
 ],
 "metadata": {
  "kernelspec": {
   "display_name": "Python 3",
   "language": "python",
   "name": "python3"
  },
  "language_info": {
   "codemirror_mode": {
    "name": "ipython",
    "version": 3
   },
   "file_extension": ".py",
   "mimetype": "text/x-python",
   "name": "python",
   "nbconvert_exporter": "python",
   "pygments_lexer": "ipython3",
   "version": "3.13.0"
  }
 },
 "nbformat": 4,
 "nbformat_minor": 2
}
