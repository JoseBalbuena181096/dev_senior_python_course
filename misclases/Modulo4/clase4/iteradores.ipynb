{
 "cells": [
  {
   "cell_type": "markdown",
   "metadata": {},
   "source": [
    "# Iteradores y generadores\n",
    "\n",
    "## Iteradores \n",
    "\n",
    "Un iterador en python es un objeto que implementa los métodos ``__iter__()`  y `__next__()`. Un iterador permite recorrer un conjunto de datos uno a uno sin necesidad de cargar una secuencia en memoria."
   ]
  },
  {
   "cell_type": "code",
   "execution_count": 8,
   "metadata": {},
   "outputs": [
    {
     "name": "stdout",
     "output_type": "stream",
     "text": [
      "0\n",
      "1\n",
      "2\n",
      "3\n",
      "4\n"
     ]
    }
   ],
   "source": [
    "class Contador:\n",
    "    def __init__(self, limite):\n",
    "        self.limite = limite\n",
    "        self.contador = 0\n",
    "\n",
    "    def __iter__(self):\n",
    "        return self\n",
    "\n",
    "    def __next__(self):\n",
    "      if self.contador < self.limite:\n",
    "        valor = self.contador\n",
    "        self.contador += 1\n",
    "        return valor\n",
    "      else:\n",
    "        raise StopIteration\n",
    "\n",
    "# Uso del iterador\n",
    "iterador = Contador(5)\n",
    "for num in iterador:\n",
    "    print(num)"
   ]
  },
  {
   "cell_type": "code",
   "execution_count": 7,
   "metadata": {},
   "outputs": [
    {
     "name": "stdout",
     "output_type": "stream",
     "text": [
      "Turno: 1\n",
      "Turno: 2\n",
      "Turno: 3\n",
      "Turno: 4\n",
      "Turno: 5\n",
      "Turno: 6\n",
      "Turno: 7\n",
      "Turno: 8\n",
      "Turno: 9\n",
      "Turno: 10\n",
      "Turno: 1\n",
      "Turno: 2\n",
      "Turno: 3\n",
      "Turno: 4\n",
      "Turno: 5\n"
     ]
    }
   ],
   "source": [
    "class Turno:\n",
    "    def __init__(self, max_turno = 10):\n",
    "        self.max_turno = max_turno\n",
    "        self.turno_actual = 0\n",
    "\n",
    "    def __iter__(self):\n",
    "        return self\n",
    "\n",
    "    def __next__(self):\n",
    "      if self.turno_actual < self.max_turno:\n",
    "        self.turno_actual += 1\n",
    "      else:\n",
    "        self.turno_actual = 1\n",
    "      return f\"Turno: {self.turno_actual}\"\n",
    "\n",
    "# Uso del iterador\n",
    "turno = Turno()\n",
    "for _ in range(15):\n",
    "    print(next(turno))\n"
   ]
  },
  {
   "cell_type": "markdown",
   "metadata": {},
   "source": [
    "# Generadores\n",
    "\n",
    "\n",
    "### return vs yield\n"
   ]
  },
  {
   "cell_type": "code",
   "execution_count": 14,
   "metadata": {},
   "outputs": [
    {
     "name": "stdout",
     "output_type": "stream",
     "text": [
      "[0, 1, 2, 3, 4, 5, 6, 7, 8, 9]\n"
     ]
    }
   ],
   "source": [
    "def numeros_hasta(n):\n",
    "    lista = []\n",
    "    for i in range(n):\n",
    "        lista.append(i)\n",
    "    return lista\n",
    "\n",
    "print(numeros_hasta(10))"
   ]
  },
  {
   "cell_type": "code",
   "execution_count": 20,
   "metadata": {},
   "outputs": [
    {
     "name": "stdout",
     "output_type": "stream",
     "text": [
      "<generator object numeros_hasta_2 at 0x000001882A44ECF0>\n"
     ]
    }
   ],
   "source": [
    "def numeros_hasta_2(n):\n",
    "    for i in range(n):\n",
    "        yield i # pausa la funcion\n",
    "\n",
    "gen = numeros_hasta_2(10)\n",
    "print(gen)"
   ]
  },
  {
   "cell_type": "code",
   "execution_count": 17,
   "metadata": {},
   "outputs": [
    {
     "name": "stdout",
     "output_type": "stream",
     "text": [
      "0\n"
     ]
    }
   ],
   "source": [
    "print(next(gen))"
   ]
  },
  {
   "cell_type": "code",
   "execution_count": 18,
   "metadata": {},
   "outputs": [
    {
     "name": "stdout",
     "output_type": "stream",
     "text": [
      "1\n"
     ]
    }
   ],
   "source": [
    "print(next(gen))"
   ]
  },
  {
   "cell_type": "code",
   "execution_count": 21,
   "metadata": {},
   "outputs": [
    {
     "name": "stdout",
     "output_type": "stream",
     "text": [
      "0\n",
      "1\n",
      "2\n",
      "3\n",
      "4\n",
      "5\n",
      "6\n",
      "7\n",
      "8\n"
     ]
    }
   ],
   "source": [
    "for _ in range(9):\n",
    "    print(next(gen))"
   ]
  },
  {
   "cell_type": "markdown",
   "metadata": {},
   "source": [
    "## Generadores \n",
    "\n",
    "Un **generador** es una forma eficiente de crear un iterador. Se usa cuando no almacenar todas las secuencias en memoria, si  no producir valores sobre la marcha con **yield**"
   ]
  },
  {
   "cell_type": "code",
   "execution_count": 24,
   "metadata": {},
   "outputs": [
    {
     "name": "stdout",
     "output_type": "stream",
     "text": [
      "Temperatura actual: 32.43 °C\n"
     ]
    }
   ],
   "source": [
    "import random \n",
    "import time\n",
    "\n",
    "def sensor_clima():\n",
    "\n",
    "    while True:\n",
    "        temperatura = round(random.uniform(10.0, 35.0), 2)\n",
    "        yield f\"Temperatura actual: {temperatura} °C\"\n",
    "        time.sleep(5)\n",
    "        break\n",
    "\n",
    "for lectura in sensor_clima():\n",
    "    print(lectura)"
   ]
  },
  {
   "cell_type": "markdown",
   "metadata": {},
   "source": [
    "### Conclusion \n",
    "\n",
    "- Usa `return` cuando nesecitas el resultado completo de inmediato\n",
    "- Usa `yield` cuando nesesitas generar valores de manera eficiente sin cargar toda la memoria"
   ]
  },
  {
   "cell_type": "markdown",
   "metadata": {},
   "source": []
  },
  {
   "cell_type": "code",
   "execution_count": null,
   "metadata": {},
   "outputs": [],
   "source": []
  },
  {
   "cell_type": "code",
   "execution_count": null,
   "metadata": {},
   "outputs": [],
   "source": []
  }
 ],
 "metadata": {
  "kernelspec": {
   "display_name": "Python 3",
   "language": "python",
   "name": "python3"
  },
  "language_info": {
   "codemirror_mode": {
    "name": "ipython",
    "version": 3
   },
   "file_extension": ".py",
   "mimetype": "text/x-python",
   "name": "python",
   "nbconvert_exporter": "python",
   "pygments_lexer": "ipython3",
   "version": "3.13.0"
  }
 },
 "nbformat": 4,
 "nbformat_minor": 2
}
